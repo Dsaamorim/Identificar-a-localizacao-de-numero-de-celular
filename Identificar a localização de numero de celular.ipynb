{
 "cells": [
  {
   "cell_type": "code",
   "execution_count": 14,
   "id": "db45e687",
   "metadata": {},
   "outputs": [
    {
     "name": "stdout",
     "output_type": "stream",
     "text": [
      "Country Code: 55 National Number: 21972875309\n",
      "Rio de Janeiro\n",
      "+55 21 97287-5309\n",
      "Vivo\n",
      "PhoneNumberMatch [92,105) (21)999999999\n"
     ]
    }
   ],
   "source": [
    "import phonenumbers \n",
    "#Ajustar telefone para usarmos phonerules\n",
    "\n",
    "telefone = \"+5521972875309\"\n",
    "telefone_ajustado = phonenumbers.parse(telefone)\n",
    "print(telefone_ajustado)\n",
    "\n",
    "#Descobrir a localização do telefone\n",
    "\n",
    "from phonenumbers import geocoder \n",
    "local = geocoder.description_for_number(telefone_ajustado, 'pt-br')\n",
    "\n",
    "print(local)\n",
    "\n",
    "telefone_formulario = \"21972875309\"\n",
    "\n",
    "telefone_formulario_ajustado = phonenumbers.parse(telefone_formulario, \"BR\")\n",
    "\n",
    "telefone_formatado = phonenumbers.format_number(telefone_formulario_ajustado, phonenumbers.PhoneNumberFormat.INTERNATIONAL)\n",
    "\n",
    "print(telefone_formatado)\n",
    "\n",
    "#Descobrir a operadora de telefone\n",
    "\n",
    "from phonenumbers import carrier \n",
    "\n",
    "operadora = carrier.name_for_number(telefone_ajustado, \"pt-br\")\n",
    "\n",
    "print(operadora)\n",
    "\n",
    "corpo_email = \"\"\"Prezados, quando tiverem uma resposta da proposta favor entrar em contato.\n",
    "Abraços, Douglas\n",
    "(21)999999999\"\"\"\n",
    "\n",
    "for telefone in phonenumbers.PhoneNumberMatcher(corpo_email, \"BR\"):\n",
    "    \n",
    "    print(telefone)\n"
   ]
  },
  {
   "cell_type": "code",
   "execution_count": null,
   "id": "de31b182",
   "metadata": {},
   "outputs": [],
   "source": []
  }
 ],
 "metadata": {
  "kernelspec": {
   "display_name": "Python 3",
   "language": "python",
   "name": "python3"
  },
  "language_info": {
   "codemirror_mode": {
    "name": "ipython",
    "version": 3
   },
   "file_extension": ".py",
   "mimetype": "text/x-python",
   "name": "python",
   "nbconvert_exporter": "python",
   "pygments_lexer": "ipython3",
   "version": "3.8.8"
  }
 },
 "nbformat": 4,
 "nbformat_minor": 5
}
